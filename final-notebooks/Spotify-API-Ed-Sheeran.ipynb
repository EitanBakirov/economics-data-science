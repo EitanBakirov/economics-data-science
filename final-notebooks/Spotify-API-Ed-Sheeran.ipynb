{
  "nbformat": 4,
  "nbformat_minor": 0,
  "metadata": {
    "colab": {
      "provenance": [],
      "authorship_tag": "ABX9TyPQr6ytNl3rJLHcEEGxu20e",
      "include_colab_link": true
    },
    "kernelspec": {
      "name": "python3",
      "display_name": "Python 3"
    },
    "language_info": {
      "name": "python"
    }
  },
  "cells": [
    {
      "cell_type": "markdown",
      "metadata": {
        "id": "view-in-github",
        "colab_type": "text"
      },
      "source": [
        "<a href=\"https://colab.research.google.com/github/EitanBakirov/Economics-Data-Science/blob/main/Spotify_API_Ed_Sheeran.ipynb\" target=\"_parent\"><img src=\"https://colab.research.google.com/assets/colab-badge.svg\" alt=\"Open In Colab\"/></a>"
      ]
    },
    {
      "cell_type": "markdown",
      "source": [
        "This code prints the top songs of Ed Sheeran using Spotify API"
      ],
      "metadata": {
        "id": "_f2vDnFrOVIQ"
      }
    },
    {
      "cell_type": "code",
      "source": [
        "import requests\n",
        "import base64\n",
        "\n",
        "def get_spotify_artist_data(client_id, client_secret, artist_id):\n",
        "    # Spotify API token endpoint\n",
        "    auth_url = 'https://accounts.spotify.com/api/token'\n",
        "\n",
        "    # Base64 encode client_id and client_secret for Authorization header\n",
        "    auth_header = base64.b64encode(f\"{client_id}:{client_secret}\".encode('ascii')).decode('ascii')\n",
        "\n",
        "    # Request payload for token endpoint\n",
        "    payload = {\n",
        "        'grant_type': 'client_credentials'\n",
        "    }\n",
        "\n",
        "    # Headers with Authorization header containing encoded client credentials\n",
        "    headers = {\n",
        "        'Authorization': 'Basic ' + auth_header\n",
        "    }\n",
        "\n",
        "    # Make a POST request to get Access Token\n",
        "    auth_response = requests.post(auth_url, data=payload, headers=headers)\n",
        "\n",
        "    # Check if the request was successful (status code 200)\n",
        "    if auth_response.status_code == 200:\n",
        "        auth_response_data = auth_response.json()\n",
        "        # Extract Access Token from response\n",
        "        access_token = auth_response_data['access_token']\n",
        "    else:\n",
        "        # Print error message if authentication request failed\n",
        "        print(f\"Authentication error: {auth_response.status_code}, {auth_response.text}\")\n",
        "        return\n",
        "\n",
        "    # Spotify API endpoint to get an artist's information\n",
        "    artist_url = f'https://api.spotify.com/v1/artists/{artist_id}'\n",
        "\n",
        "    # Headers with Authorization Bearer token\n",
        "    headers = {\n",
        "        'Authorization': 'Bearer ' + access_token\n",
        "    }\n",
        "\n",
        "    # Make the GET request to Spotify API endpoint\n",
        "    response = requests.get(artist_url, headers=headers)\n",
        "\n",
        "    # Check if the request was successful (status code 200)\n",
        "    if response.status_code == 200:\n",
        "        artist_data = response.json()\n",
        "        print(\"Artist Name:\", artist_data['name'])\n",
        "        print(\"Followers:\", artist_data['followers']['total'])\n",
        "        print(\"Genres:\", artist_data['genres'])\n",
        "        print(\"Popularity:\", artist_data['popularity'])\n",
        "    else:\n",
        "        print(f\"Error: {response.status_code}, {response.text}\")\n",
        "        return\n",
        "\n",
        "    # Spotify API endpoint to get an artist's top tracks\n",
        "    top_tracks_url = f'https://api.spotify.com/v1/artists/{artist_id}/top-tracks'\n",
        "\n",
        "    # Parameters for the endpoint (country parameter is required for top tracks)\n",
        "    params = {\n",
        "        'country': 'US'  # Replace with the desired country code (ISO 3166-1 alpha-2)\n",
        "    }\n",
        "\n",
        "    # Make the GET request to Spotify API endpoint\n",
        "    response = requests.get(top_tracks_url, headers=headers, params=params)\n",
        "\n",
        "    # Check if the request was successful (status code 200)\n",
        "    if response.status_code == 200:\n",
        "        top_tracks_data = response.json()\n",
        "        artist_name = top_tracks_data['tracks'][0]['artists'][0]['name']  # Get artist name from the first track\n",
        "        print(f\"Top Tracks for {artist_name}:\")\n",
        "\n",
        "        # Display information about each top track\n",
        "        for track in top_tracks_data['tracks']:\n",
        "            track_name = track['name']\n",
        "            album_name = track['album']['name']\n",
        "            popularity = track['popularity']\n",
        "            print(f\"- {track_name} ({album_name}) - Popularity: {popularity}\")\n",
        "    else:\n",
        "        print(f\"Error: {response.status_code}, {response.text}\")\n",
        "\n",
        "\n",
        "client_id = '4ef265db85e94f65ba0e415e2965cdad'\n",
        "client_secret = '95bf634d3d0b4b4f94f62d7e17fb715d'\n",
        "artist_id = '6eUKZXaKkcviH0Ku9w2n3V'  # Ed Sheeran\n",
        "\n",
        "get_spotify_artist_data(client_id, client_secret, artist_id)"
      ],
      "metadata": {
        "colab": {
          "base_uri": "https://localhost:8080/"
        },
        "id": "kvra77ngNnw0",
        "outputId": "499a4bab-bbae-476e-81bf-ba3402144ddd"
      },
      "execution_count": null,
      "outputs": [
        {
          "output_type": "stream",
          "name": "stdout",
          "text": [
            "Artist Name: Ed Sheeran\n",
            "Followers: 114446596\n",
            "Genres: ['pop', 'singer-songwriter pop', 'uk pop']\n",
            "Popularity: 86\n",
            "Top Tracks for Ed Sheeran:\n",
            "- Perfect (÷ (Deluxe)) - Popularity: 82\n",
            "- Shape of You (÷ (Deluxe)) - Popularity: 81\n",
            "- Photograph (x (Wembley Edition)) - Popularity: 60\n",
            "- Shivers (=) - Popularity: 79\n",
            "- Thinking out Loud (x (Wembley Edition)) - Popularity: 60\n",
            "- Bad Habits (=) - Popularity: 76\n",
            "- Bam Bam (feat. Ed Sheeran) (Familia) - Popularity: 68\n",
            "- Castle on the Hill (÷ (Deluxe)) - Popularity: 74\n",
            "- I Don't Care (with Justin Bieber) (No.6 Collaborations Project) - Popularity: 64\n",
            "- Galway Girl (÷ (Deluxe)) - Popularity: 73\n"
          ]
        }
      ]
    }
  ]
}
