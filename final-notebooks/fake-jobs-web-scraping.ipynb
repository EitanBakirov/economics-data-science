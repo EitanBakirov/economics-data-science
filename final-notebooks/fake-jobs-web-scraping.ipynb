{
  "nbformat": 4,
  "nbformat_minor": 0,
  "metadata": {
    "colab": {
      "provenance": [],
      "authorship_tag": "ABX9TyNRu66yo3H+ep/d1/uhQgmx",
      "include_colab_link": true
    },
    "kernelspec": {
      "name": "python3",
      "display_name": "Python 3"
    },
    "language_info": {
      "name": "python"
    }
  },
  "cells": [
    {
      "cell_type": "markdown",
      "metadata": {
        "id": "view-in-github",
        "colab_type": "text"
      },
      "source": [
        "<a href=\"https://colab.research.google.com/github/EitanBakirov/Economics-Data-Science/blob/main/Fake_Jobs_Web_Scraping.ipynb\" target=\"_parent\"><img src=\"https://colab.research.google.com/assets/colab-badge.svg\" alt=\"Open In Colab\"/></a>"
      ]
    },
    {
      "cell_type": "markdown",
      "source": [
        "This code gets all the jobs and save the dataframe as a csv to your computer"
      ],
      "metadata": {
        "id": "uh91BI7AMMcw"
      }
    },
    {
      "cell_type": "code",
      "execution_count": null,
      "metadata": {
        "id": "yg-vuQXkLF43"
      },
      "outputs": [],
      "source": [
        "# Importing necessary libraries\n",
        "import requests\n",
        "from bs4 import BeautifulSoup\n",
        "import pandas as pd\n",
        "\n",
        "# Import the files module from google.colab to handle file uploads and downloads\n",
        "from google.colab import files\n",
        "\n",
        "# Fetch the webpage\n",
        "url = 'https://realpython.github.io/fake-jobs/'\n",
        "response = requests.get(url)\n",
        "\n",
        "# Parse the HTML content\n",
        "soup = BeautifulSoup(response.content, 'html.parser')\n",
        "\n",
        "# Get all the job cards\n",
        "job_cards = soup.find_all('div', class_='card')  # Find all <div> tags with class 'card' aka getting all the cards\n",
        "jobs = []\n",
        "\n",
        "# Save to a list each job with its data\n",
        "for card in job_cards:\n",
        "    job = card.find('h2', class_='title is-5').text\n",
        "    location = card.find('p', class_='location').text.strip()\n",
        "    company = card.find('h3', class_='subtitle is-6 company').text\n",
        "    about = card.find_all('a', class_='card-footer-item')[0][\"href\"]\n",
        "    apply = card.find_all('a', class_='card-footer-item')[1][\"href\"]\n",
        "    jobs.append({\"job\": job, \"location\": location, \"company\": company, \"about\": about, \"apply\": apply})\n",
        "\n",
        "# Convert to DataFrame\n",
        "jobs_df = pd.DataFrame(jobs)\n",
        "\n",
        "# Save to CSV\n",
        "csv_file_path = \"jobs.csv\"\n",
        "jobs_df.to_csv(csv_file_path, index=False)\n",
        "files.download(csv_file_path)\n",
        "print(f\"The file '{csv_file_path}' has been downloaded.\")"
      ]
    }
  ]
}
