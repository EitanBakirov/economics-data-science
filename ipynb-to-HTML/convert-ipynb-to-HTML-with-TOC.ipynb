{
  "nbformat": 4,
  "nbformat_minor": 0,
  "metadata": {
    "colab": {
      "provenance": [],
      "mount_file_id": "https://github.com/EitanBakirov/Economics-Data-Science/blob/main/ipynb_to_HTML/Convert_ipynb_to_HTML_with_TOC.ipynb",
      "authorship_tag": "ABX9TyOvoYnGva53eq9S95fCogvF",
      "include_colab_link": true
    },
    "kernelspec": {
      "name": "python3",
      "display_name": "Python 3"
    },
    "language_info": {
      "name": "python"
    }
  },
  "cells": [
    {
      "cell_type": "markdown",
      "metadata": {
        "id": "view-in-github",
        "colab_type": "text"
      },
      "source": [
        "<a href=\"https://colab.research.google.com/github/EitanBakirov/Economics-Data-Science/blob/main/ipynb_to_HTML/convert_ipynb_to_HTML_with_TOC.ipynb\" target=\"_parent\"><img src=\"https://colab.research.google.com/assets/colab-badge.svg\" alt=\"Open In Colab\"/></a>"
      ]
    },
    {
      "cell_type": "markdown",
      "source": [
        "# Convert from .ipynb file to .HTML file with table of contents (TOC)\n",
        "\n",
        "This code converts the selected .ipynb file to an .HTML file with an interactive Table of contents (TOC) and automatically downloads it to your computer.<br><br>\n",
        "\n",
        "Based on <b>Pretty Jupyter</b> package:<br>\n",
        "https://pretty-jupyter.readthedocs.io/en/latest/index.html\n",
        "\n",
        "https://github.com/JanPalasek/pretty-jupyter\n",
        "\n",
        "<br>\n",
        "\n",
        "**Instructions**:    \n",
        "1. Download the ipynb, which you want to convert, on your local computer.    \n",
        "2. Run the code below to upload the ipynb.  \n",
        "3. The html version will be downloaded automatically on your local machine.\n",
        "\n",
        "Enjoy it!"
      ],
      "metadata": {
        "id": "G-JPHMW0_cge"
      }
    },
    {
      "cell_type": "code",
      "execution_count": null,
      "metadata": {
        "id": "o6ktJoJ-l0d_",
        "collapsed": true
      },
      "outputs": [],
      "source": [
        "%pip install pretty-jupyter"
      ]
    },
    {
      "cell_type": "code",
      "source": [
        "# Upload the ipynb file\n",
        "from google.colab import files\n",
        "uploaded = files.upload()\n",
        "\n",
        "# Get the uploaded file name\n",
        "notebook_filename = next(iter(uploaded))\n",
        "\n",
        "# Install nbconvert if not already installed\n",
        "import subprocess\n",
        "subprocess.run([\"pip\", \"install\", \"nbconvert\"])\n",
        "\n",
        "# Define the output HTML filename\n",
        "html_filename = notebook_filename.rsplit('.', 1)[0] + '.html'\n",
        "\n",
        "# Run nbconvert command with the specific template\n",
        "!jupyter nbconvert --to html --template pj \"$notebook_filename\"\n",
        "\n",
        "# Download the HTML file\n",
        "files.download(html_filename)\n"
      ],
      "metadata": {
        "id": "AcCYafr-8XoD"
      },
      "execution_count": null,
      "outputs": []
    }
  ]
}